{
 "cells": [
  {
   "cell_type": "markdown",
   "metadata": {},
   "source": [
    "# Прототип системы прогнозирования спроса для сети магазинов одежды."
   ]
  },
  {
   "cell_type": "code",
   "execution_count": 116,
   "metadata": {},
   "outputs": [],
   "source": [
    "import pandas as pd\n",
    "import matplotlib.pyplot as plt"
   ]
  },
  {
   "cell_type": "markdown",
   "metadata": {},
   "source": [
    "## Чтение и анализ исходных данных"
   ]
  },
  {
   "cell_type": "code",
   "execution_count": 117,
   "metadata": {},
   "outputs": [],
   "source": [
    "stock = pd.read_csv('data/Ostatok.txt', delimiter='\\t')\n",
    "sales = pd.read_csv('data/Sales.txt', delimiter='\\t')"
   ]
  },
  {
   "cell_type": "code",
   "execution_count": 118,
   "metadata": {},
   "outputs": [
    {
     "name": "stdout",
     "output_type": "stream",
     "text": [
      "<class 'pandas.core.frame.DataFrame'>\n",
      "RangeIndex: 6542793 entries, 0 to 6542792\n",
      "Data columns (total 5 columns):\n",
      " #   Column                Dtype \n",
      "---  ------                ----- \n",
      " 0   Дата                  object\n",
      " 1   КодМагазин            int64 \n",
      " 2   КодНоменклатура       int64 \n",
      " 3   ОстатокНаКонецДня     int64 \n",
      " 4   НоменклатурнаяГруппа  object\n",
      "dtypes: int64(3), object(2)\n",
      "memory usage: 249.6+ MB\n",
      "------------------------------------------------\n",
      "<class 'pandas.core.frame.DataFrame'>\n",
      "RangeIndex: 20880 entries, 0 to 20879\n",
      "Data columns (total 5 columns):\n",
      " #   Column                Non-Null Count  Dtype \n",
      "---  ------                --------------  ----- \n",
      " 0   Дата                  20880 non-null  object\n",
      " 1   КодМагазин            20880 non-null  int64 \n",
      " 2   КодНоменклатура       20880 non-null  int64 \n",
      " 3   Количество            20880 non-null  object\n",
      " 4   НоменклатурнаяГруппа  20880 non-null  object\n",
      "dtypes: int64(2), object(3)\n",
      "memory usage: 815.8+ KB\n"
     ]
    }
   ],
   "source": [
    "stock.info()\n",
    "print('------------------------------------------------')\n",
    "sales.info()"
   ]
  },
  {
   "cell_type": "markdown",
   "metadata": {},
   "source": [
    "Типы данных неподходящие для вычислений, необходимо их сменить.\n"
   ]
  },
  {
   "cell_type": "markdown",
   "metadata": {},
   "source": [
    "### Анализ числовых признаков"
   ]
  },
  {
   "cell_type": "markdown",
   "metadata": {},
   "source": [
    "Количество в продажах не определяется как число, посмотрим, какие в этом столбце значения."
   ]
  },
  {
   "cell_type": "code",
   "execution_count": 119,
   "metadata": {},
   "outputs": [
    {
     "data": {
      "text/plain": [
       "1     19860\n",
       "2       548\n",
       "-1      322\n",
       "?        80\n",
       "3        57\n",
       "4         9\n",
       "-2        4\n",
       "Name: Количество, dtype: int64"
      ]
     },
     "execution_count": 119,
     "metadata": {},
     "output_type": "execute_result"
    }
   ],
   "source": [
    "sales['Количество'].value_counts()"
   ]
  },
  {
   "cell_type": "markdown",
   "metadata": {},
   "source": [
    "Замена \"?\" на моду \"1\""
   ]
  },
  {
   "cell_type": "code",
   "execution_count": 120,
   "metadata": {},
   "outputs": [],
   "source": [
    "sales['Количество'] = sales['Количество'].replace('?', '1').astype('float64')\n"
   ]
  },
  {
   "cell_type": "markdown",
   "metadata": {},
   "source": [
    "### Настройка типов данных"
   ]
  },
  {
   "cell_type": "code",
   "execution_count": 121,
   "metadata": {},
   "outputs": [],
   "source": [
    "# Настройка типов для остатков\n",
    "stock['Дата'] = pd.to_datetime(stock['Дата'], dayfirst=True) # для работы с датами и создания новых признаков\n",
    "stock[['КодМагазин', 'КодНоменклатура', 'НоменклатурнаяГруппа']] = stock[['КодМагазин', 'КодНоменклатура', 'НоменклатурнаяГруппа']].astype('category')\n",
    "\n",
    "# Настройка типов для продаж\n",
    "sales['Дата'] = pd.to_datetime(sales['Дата'], dayfirst=True) # для работы с датами и создания новых признаков\n",
    "sales[['КодМагазин', 'КодНоменклатура', 'НоменклатурнаяГруппа']] = sales[['КодМагазин', 'КодНоменклатура', 'НоменклатурнаяГруппа']].astype('category')"
   ]
  },
  {
   "cell_type": "markdown",
   "metadata": {},
   "source": [
    "### Визуализация количественных признаков"
   ]
  },
  {
   "cell_type": "code",
   "execution_count": 123,
   "metadata": {},
   "outputs": [
    {
     "data": {
      "image/png": "[encoded data removed]",
      "text/plain": [
       "<Figure size 1500x400 with 2 Axes>"
      ]
     },
     "metadata": {},
     "output_type": "display_data"
    }
   ],
   "source": [
    "fig, axes = plt.subplots(nrows=1, ncols=2, figsize=(15, 4))\n",
    "\n",
    "#гистограмма продаж\n",
    "axes[0].hist(x=sales['Количество'],\n",
    "             label=['Количество'])\n",
    "axes[0].set_title('Гистограмма распределения штук продаж');\n",
    "\n",
    "#гистограмма остатков\n",
    "axes[1].hist(x=stock['ОстатокНаКонецДня'],\n",
    "             label=['ОстатокНаКонецДня'],\n",
    "             bins=30)\n",
    "axes[1].set_title('Гистограмма распределения штук остатков');"
   ]
  },
  {
   "cell_type": "markdown",
   "metadata": {},
   "source": [
    "С остатками есть странные момент - это отрицательные остатки, чего физически быть не может (технически возможно из-за особенностей учета). Поэтому надо выяснять у заказчика, отрицательные остатки это \"БАГ или фича\". Посмотрим как распределены данные.\n",
    "В качестве отрицательных продаж могут быть возвраты, поэтому отрицательные продажи оставляем."
   ]
  },
  {
   "cell_type": "markdown",
   "metadata": {},
   "source": [
    "### Структура таблиц"
   ]
  },
  {
   "cell_type": "code",
   "execution_count": 124,
   "metadata": {},
   "outputs": [
    {
     "data": {
      "text/html": [
       "<div>\n",
       "<style scoped>\n",
       "    .dataframe tbody tr th:only-of-type {\n",
       "        vertical-align: middle;\n",
       "    }\n",
       "\n",
       "    .dataframe tbody tr th {\n",
       "        vertical-align: top;\n",
       "    }\n",
       "\n",
       "    .dataframe thead th {\n",
       "        text-align: right;\n",
       "    }\n",
       "</style>\n",
       "<table border=\"1\" class=\"dataframe\">\n",
       "  <thead>\n",
       "    <tr style=\"text-align: right;\">\n",
       "      <th></th>\n",
       "      <th>Дата</th>\n",
       "      <th>КодМагазин</th>\n",
       "      <th>КодНоменклатура</th>\n",
       "      <th>ОстатокНаКонецДня</th>\n",
       "      <th>НоменклатурнаяГруппа</th>\n",
       "    </tr>\n",
       "  </thead>\n",
       "  <tbody>\n",
       "    <tr>\n",
       "      <th>0</th>\n",
       "      <td>2019-01-29</td>\n",
       "      <td>83</td>\n",
       "      <td>48842</td>\n",
       "      <td>2</td>\n",
       "      <td>Сорочка для мальчика длинный рукав</td>\n",
       "    </tr>\n",
       "    <tr>\n",
       "      <th>1</th>\n",
       "      <td>2019-01-29</td>\n",
       "      <td>83</td>\n",
       "      <td>48842</td>\n",
       "      <td>1</td>\n",
       "      <td>Сорочка для мальчика длинный рукав</td>\n",
       "    </tr>\n",
       "  </tbody>\n",
       "</table>\n",
       "</div>"
      ],
      "text/plain": [
       "        Дата КодМагазин КодНоменклатура  ОстатокНаКонецДня  \\\n",
       "0 2019-01-29         83           48842                  2   \n",
       "1 2019-01-29         83           48842                  1   \n",
       "\n",
       "                 НоменклатурнаяГруппа  \n",
       "0  Сорочка для мальчика длинный рукав  \n",
       "1  Сорочка для мальчика длинный рукав  "
      ]
     },
     "metadata": {},
     "output_type": "display_data"
    },
    {
     "data": {
      "text/html": [
       "<div>\n",
       "<style scoped>\n",
       "    .dataframe tbody tr th:only-of-type {\n",
       "        vertical-align: middle;\n",
       "    }\n",
       "\n",
       "    .dataframe tbody tr th {\n",
       "        vertical-align: top;\n",
       "    }\n",
       "\n",
       "    .dataframe thead th {\n",
       "        text-align: right;\n",
       "    }\n",
       "</style>\n",
       "<table border=\"1\" class=\"dataframe\">\n",
       "  <thead>\n",
       "    <tr style=\"text-align: right;\">\n",
       "      <th></th>\n",
       "      <th>Дата</th>\n",
       "      <th>КодМагазин</th>\n",
       "      <th>КодНоменклатура</th>\n",
       "      <th>Количество</th>\n",
       "      <th>НоменклатурнаяГруппа</th>\n",
       "    </tr>\n",
       "  </thead>\n",
       "  <tbody>\n",
       "    <tr>\n",
       "      <th>0</th>\n",
       "      <td>2020-09-02</td>\n",
       "      <td>83</td>\n",
       "      <td>2234</td>\n",
       "      <td>1.0</td>\n",
       "      <td>Брюки для мальчика шк.форма</td>\n",
       "    </tr>\n",
       "    <tr>\n",
       "      <th>1</th>\n",
       "      <td>2020-09-04</td>\n",
       "      <td>83</td>\n",
       "      <td>2234</td>\n",
       "      <td>-1.0</td>\n",
       "      <td>Брюки для мальчика шк.форма</td>\n",
       "    </tr>\n",
       "  </tbody>\n",
       "</table>\n",
       "</div>"
      ],
      "text/plain": [
       "        Дата КодМагазин КодНоменклатура  Количество  \\\n",
       "0 2020-09-02         83            2234         1.0   \n",
       "1 2020-09-04         83            2234        -1.0   \n",
       "\n",
       "          НоменклатурнаяГруппа  \n",
       "0  Брюки для мальчика шк.форма  \n",
       "1  Брюки для мальчика шк.форма  "
      ]
     },
     "metadata": {},
     "output_type": "display_data"
    }
   ],
   "source": [
    "display(stock.head(2))\n",
    "display(sales.head(2))"
   ]
  },
  {
   "cell_type": "code",
   "execution_count": 125,
   "metadata": {},
   "outputs": [
    {
     "name": "stdout",
     "output_type": "stream",
     "text": [
      " Всего отрицательных случаев - 3195 \n",
      " Доля отрицательных случаев - 0.0488%\n"
     ]
    }
   ],
   "source": [
    "# Посмотрим на количество отрицательных значений.\n",
    "sub_zero = stock[stock['ОстатокНаКонецДня']<0]['ОстатокНаКонецДня'].count()\n",
    "доля_отрицательных = sub_zero/stock['ОстатокНаКонецДня'].count()*100\n",
    "print(f' Всего отрицательных случаев - {sub_zero} \\n Доля отрицательных случаев - {\"%.4f%%\" % доля_отрицательных}' )"
   ]
  },
  {
   "cell_type": "markdown",
   "metadata": {},
   "source": [
    "### Описательная статистика остальных признаков"
   ]
  },
  {
   "cell_type": "code",
   "execution_count": 126,
   "metadata": {},
   "outputs": [
    {
     "name": "stdout",
     "output_type": "stream",
     "text": [
      "-------------------------Остатки на конец дня-------------------------------------\n"
     ]
    },
    {
     "data": {
      "text/html": [
       "<div>\n",
       "<style scoped>\n",
       "    .dataframe tbody tr th:only-of-type {\n",
       "        vertical-align: middle;\n",
       "    }\n",
       "\n",
       "    .dataframe tbody tr th {\n",
       "        vertical-align: top;\n",
       "    }\n",
       "\n",
       "    .dataframe thead th {\n",
       "        text-align: right;\n",
       "    }\n",
       "</style>\n",
       "<table border=\"1\" class=\"dataframe\">\n",
       "  <thead>\n",
       "    <tr style=\"text-align: right;\">\n",
       "      <th></th>\n",
       "      <th>КодМагазин</th>\n",
       "      <th>КодНоменклатура</th>\n",
       "      <th>НоменклатурнаяГруппа</th>\n",
       "    </tr>\n",
       "  </thead>\n",
       "  <tbody>\n",
       "    <tr>\n",
       "      <th>count</th>\n",
       "      <td>6542793</td>\n",
       "      <td>6542793</td>\n",
       "      <td>6542793</td>\n",
       "    </tr>\n",
       "    <tr>\n",
       "      <th>unique</th>\n",
       "      <td>5</td>\n",
       "      <td>349</td>\n",
       "      <td>3</td>\n",
       "    </tr>\n",
       "    <tr>\n",
       "      <th>top</th>\n",
       "      <td>83</td>\n",
       "      <td>2227</td>\n",
       "      <td>Брюки для мальчика шк.форма</td>\n",
       "    </tr>\n",
       "    <tr>\n",
       "      <th>freq</th>\n",
       "      <td>2088833</td>\n",
       "      <td>379473</td>\n",
       "      <td>2888558</td>\n",
       "    </tr>\n",
       "  </tbody>\n",
       "</table>\n",
       "</div>"
      ],
      "text/plain": [
       "        КодМагазин  КодНоменклатура         НоменклатурнаяГруппа\n",
       "count      6542793          6542793                      6542793\n",
       "unique           5              349                            3\n",
       "top             83             2227  Брюки для мальчика шк.форма\n",
       "freq       2088833           379473                      2888558"
      ]
     },
     "metadata": {},
     "output_type": "display_data"
    },
    {
     "name": "stdout",
     "output_type": "stream",
     "text": [
      "-------------------------Продажи---------------------------------------------------\n"
     ]
    },
    {
     "data": {
      "text/html": [
       "<div>\n",
       "<style scoped>\n",
       "    .dataframe tbody tr th:only-of-type {\n",
       "        vertical-align: middle;\n",
       "    }\n",
       "\n",
       "    .dataframe tbody tr th {\n",
       "        vertical-align: top;\n",
       "    }\n",
       "\n",
       "    .dataframe thead th {\n",
       "        text-align: right;\n",
       "    }\n",
       "</style>\n",
       "<table border=\"1\" class=\"dataframe\">\n",
       "  <thead>\n",
       "    <tr style=\"text-align: right;\">\n",
       "      <th></th>\n",
       "      <th>КодМагазин</th>\n",
       "      <th>КодНоменклатура</th>\n",
       "      <th>НоменклатурнаяГруппа</th>\n",
       "    </tr>\n",
       "  </thead>\n",
       "  <tbody>\n",
       "    <tr>\n",
       "      <th>count</th>\n",
       "      <td>20880</td>\n",
       "      <td>20880</td>\n",
       "      <td>20880</td>\n",
       "    </tr>\n",
       "    <tr>\n",
       "      <th>unique</th>\n",
       "      <td>5</td>\n",
       "      <td>343</td>\n",
       "      <td>3</td>\n",
       "    </tr>\n",
       "    <tr>\n",
       "      <th>top</th>\n",
       "      <td>83</td>\n",
       "      <td>107883</td>\n",
       "      <td>Сорочка для мальчика длинный рукав</td>\n",
       "    </tr>\n",
       "    <tr>\n",
       "      <th>freq</th>\n",
       "      <td>5325</td>\n",
       "      <td>622</td>\n",
       "      <td>10052</td>\n",
       "    </tr>\n",
       "  </tbody>\n",
       "</table>\n",
       "</div>"
      ],
      "text/plain": [
       "        КодМагазин  КодНоменклатура                НоменклатурнаяГруппа\n",
       "count        20880            20880                               20880\n",
       "unique           5              343                                   3\n",
       "top             83           107883  Сорочка для мальчика длинный рукав\n",
       "freq          5325              622                               10052"
      ]
     },
     "metadata": {},
     "output_type": "display_data"
    }
   ],
   "source": [
    "print('-------------------------Остатки на конец дня-------------------------------------')\n",
    "display(stock.describe(include=['category']))\n",
    "print('-------------------------Продажи---------------------------------------------------')\n",
    "display(sales.describe(include=['category']))"
   ]
  },
  {
   "cell_type": "markdown",
   "metadata": {},
   "source": [
    "По названию номенклатурных групп делаю вывод что сеть специализируется на детской школьной одежде. А значит, буду ожидать сезонных всплесков продаж в августе."
   ]
  },
  {
   "cell_type": "markdown",
   "metadata": {},
   "source": [
    "### За какой интервал есть данные"
   ]
  },
  {
   "cell_type": "code",
   "execution_count": 127,
   "metadata": {},
   "outputs": [
    {
     "name": "stdout",
     "output_type": "stream",
     "text": [
      "Интервал дат остатков с 01.01.2019 по 31.12.2021\n",
      "Интервал дат продаж с 02.01.2019 по 31.12.2021\n"
     ]
    }
   ],
   "source": [
    "min_date_stock = stock['Дата'].min().strftime(\"%d.%m.%Y\")\n",
    "max_date_stock = stock['Дата'].max().strftime(\"%d.%m.%Y\")\n",
    "print(f\"Интервал дат остатков с {min_date_stock} по {max_date_stock}\")\n",
    "\n",
    "min_date_sales = sales['Дата'].min().strftime(\"%d.%m.%Y\")\n",
    "max_date_sales = sales['Дата'].max().strftime(\"%d.%m.%Y\")\n",
    "print(f\"Интервал дат продаж с {min_date_sales} по {max_date_sales}\")"
   ]
  },
  {
   "cell_type": "markdown",
   "metadata": {},
   "source": [
    "## Создание признаков \"Месяц\" и \"Год\""
   ]
  },
  {
   "cell_type": "code",
   "execution_count": 128,
   "metadata": {},
   "outputs": [],
   "source": [
    "sales['Месяц'] = sales['Дата'].dt.month.astype('category')\n",
    "sales['Год'] = sales['Дата'].dt.year.astype('category')"
   ]
  },
  {
   "cell_type": "code",
   "execution_count": 129,
   "metadata": {},
   "outputs": [
    {
     "name": "stdout",
     "output_type": "stream",
     "text": [
      "<class 'pandas.core.frame.DataFrame'>\n",
      "RangeIndex: 20880 entries, 0 to 20879\n",
      "Data columns (total 7 columns):\n",
      " #   Column                Non-Null Count  Dtype         \n",
      "---  ------                --------------  -----         \n",
      " 0   Дата                  20880 non-null  datetime64[ns]\n",
      " 1   КодМагазин            20880 non-null  category      \n",
      " 2   КодНоменклатура       20880 non-null  category      \n",
      " 3   Количество            20880 non-null  float64       \n",
      " 4   НоменклатурнаяГруппа  20880 non-null  category      \n",
      " 5   Месяц                 20880 non-null  category      \n",
      " 6   Год                   20880 non-null  category      \n",
      "dtypes: category(5), datetime64[ns](1), float64(1)\n",
      "memory usage: 460.4 KB\n"
     ]
    }
   ],
   "source": [
    "sales.info()"
   ]
  },
  {
   "cell_type": "markdown",
   "metadata": {},
   "source": [
    "Все нужные типы данных применены."
   ]
  },
  {
   "cell_type": "markdown",
   "metadata": {},
   "source": [
    "## Группировка данных"
   ]
  },
  {
   "cell_type": "code",
   "execution_count": 130,
   "metadata": {},
   "outputs": [],
   "source": [
    "# По коду номенклатуры\n",
    "sales_pivot_sku = sales.pivot_table(\n",
    "    values='Количество',\n",
    "    index=['КодНоменклатура', 'КодМагазин', 'Месяц'],\n",
    "    columns='Год',\n",
    "    aggfunc='sum',\n",
    "    fill_value=0\n",
    ").round()\n",
    "\n",
    "# По номенклатурной группе\n",
    "sales_pivot_group = sales.pivot_table(\n",
    "    values='Количество',\n",
    "    index=['НоменклатурнаяГруппа', 'КодМагазин', 'Месяц'],\n",
    "    columns='Год',\n",
    "    aggfunc='sum',\n",
    "    fill_value=0\n",
    ").round()"
   ]
  },
  {
   "cell_type": "markdown",
   "metadata": {},
   "source": [
    "### Структура полученных таблиц"
   ]
  },
  {
   "cell_type": "code",
   "execution_count": 131,
   "metadata": {},
   "outputs": [
    {
     "data": {
      "text/html": [
       "<div>\n",
       "<style scoped>\n",
       "    .dataframe tbody tr th:only-of-type {\n",
       "        vertical-align: middle;\n",
       "    }\n",
       "\n",
       "    .dataframe tbody tr th {\n",
       "        vertical-align: top;\n",
       "    }\n",
       "\n",
       "    .dataframe thead th {\n",
       "        text-align: right;\n",
       "    }\n",
       "</style>\n",
       "<table border=\"1\" class=\"dataframe\">\n",
       "  <thead>\n",
       "    <tr style=\"text-align: right;\">\n",
       "      <th></th>\n",
       "      <th></th>\n",
       "      <th>Год</th>\n",
       "      <th>2019</th>\n",
       "      <th>2020</th>\n",
       "      <th>2021</th>\n",
       "    </tr>\n",
       "    <tr>\n",
       "      <th>КодНоменклатура</th>\n",
       "      <th>КодМагазин</th>\n",
       "      <th>Месяц</th>\n",
       "      <th></th>\n",
       "      <th></th>\n",
       "      <th></th>\n",
       "    </tr>\n",
       "  </thead>\n",
       "  <tbody>\n",
       "    <tr>\n",
       "      <th rowspan=\"3\" valign=\"top\">2221</th>\n",
       "      <th rowspan=\"3\" valign=\"top\">83</th>\n",
       "      <th>1</th>\n",
       "      <td>5</td>\n",
       "      <td>5</td>\n",
       "      <td>0</td>\n",
       "    </tr>\n",
       "    <tr>\n",
       "      <th>2</th>\n",
       "      <td>8</td>\n",
       "      <td>2</td>\n",
       "      <td>1</td>\n",
       "    </tr>\n",
       "    <tr>\n",
       "      <th>3</th>\n",
       "      <td>4</td>\n",
       "      <td>0</td>\n",
       "      <td>1</td>\n",
       "    </tr>\n",
       "  </tbody>\n",
       "</table>\n",
       "</div>"
      ],
      "text/plain": [
       "Год                               2019  2020  2021\n",
       "КодНоменклатура КодМагазин Месяц                  \n",
       "2221            83         1         5     5     0\n",
       "                           2         8     2     1\n",
       "                           3         4     0     1"
      ]
     },
     "metadata": {},
     "output_type": "display_data"
    },
    {
     "data": {
      "text/html": [
       "<div>\n",
       "<style scoped>\n",
       "    .dataframe tbody tr th:only-of-type {\n",
       "        vertical-align: middle;\n",
       "    }\n",
       "\n",
       "    .dataframe tbody tr th {\n",
       "        vertical-align: top;\n",
       "    }\n",
       "\n",
       "    .dataframe thead th {\n",
       "        text-align: right;\n",
       "    }\n",
       "</style>\n",
       "<table border=\"1\" class=\"dataframe\">\n",
       "  <thead>\n",
       "    <tr style=\"text-align: right;\">\n",
       "      <th></th>\n",
       "      <th></th>\n",
       "      <th>Год</th>\n",
       "      <th>2019</th>\n",
       "      <th>2020</th>\n",
       "      <th>2021</th>\n",
       "    </tr>\n",
       "    <tr>\n",
       "      <th>НоменклатурнаяГруппа</th>\n",
       "      <th>КодМагазин</th>\n",
       "      <th>Месяц</th>\n",
       "      <th></th>\n",
       "      <th></th>\n",
       "      <th></th>\n",
       "    </tr>\n",
       "  </thead>\n",
       "  <tbody>\n",
       "    <tr>\n",
       "      <th rowspan=\"3\" valign=\"top\">Брюки для мальчика шк.форма</th>\n",
       "      <th rowspan=\"3\" valign=\"top\">83</th>\n",
       "      <th>1</th>\n",
       "      <td>25</td>\n",
       "      <td>25</td>\n",
       "      <td>25</td>\n",
       "    </tr>\n",
       "    <tr>\n",
       "      <th>2</th>\n",
       "      <td>22</td>\n",
       "      <td>16</td>\n",
       "      <td>15</td>\n",
       "    </tr>\n",
       "    <tr>\n",
       "      <th>3</th>\n",
       "      <td>19</td>\n",
       "      <td>11</td>\n",
       "      <td>13</td>\n",
       "    </tr>\n",
       "  </tbody>\n",
       "</table>\n",
       "</div>"
      ],
      "text/plain": [
       "Год                                           2019  2020  2021\n",
       "НоменклатурнаяГруппа        КодМагазин Месяц                  \n",
       "Брюки для мальчика шк.форма 83         1        25    25    25\n",
       "                                       2        22    16    15\n",
       "                                       3        19    11    13"
      ]
     },
     "metadata": {},
     "output_type": "display_data"
    }
   ],
   "source": [
    "display(sales_pivot_sku.head(3))\n",
    "display(sales_pivot_group.head(3))"
   ]
  },
  {
   "cell_type": "markdown",
   "metadata": {},
   "source": [
    "## Функция прогноза"
   ]
  },
  {
   "cell_type": "code",
   "execution_count": 132,
   "metadata": {},
   "outputs": [],
   "source": [
    "\n",
    "def get_predict(df, w1 = 0.6, w2 = 0.25, w3 = 0.15):\n",
    "    y = list(df.columns)[-1]+1 # для прогнозирования выбирается следующий год\n",
    "    df[y] = round(df[y-1]*w1 + df[y-2]*w2 + df[y-3]*w3, 0)"
   ]
  },
  {
   "cell_type": "markdown",
   "metadata": {},
   "source": [
    "Алгоритм работы функции прогнозирования.\n",
    "На вход подается таблица с продажами, и веса для предыдущих трех лет. Если веса не задавать, то будут использоваться значения, прописанные в функции как умолчания (предыдущий год - 0.6, минус 2 года - 0.25, минус 3 года - 1.5), где наибольшее влияние на прогноз оказывает последний год, для сохранения тренда. Далее значения предыдущих лет перемножаются на свои веса и складываются, формируя прогнозное значение на следующий год. Прогноз на второй год работает аналогичным образом, учитывая значения спрогнозированного года."
   ]
  },
  {
   "cell_type": "markdown",
   "metadata": {},
   "source": [
    "### Выполнение функции прогнозирования"
   ]
  },
  {
   "cell_type": "code",
   "execution_count": 133,
   "metadata": {},
   "outputs": [
    {
     "name": "stdout",
     "output_type": "stream",
     "text": [
      "Прогноз по номенклатуре на +1 год рассчитан.\n",
      "Прогноз по номенклатурным группам на +1 год рассчитан.\n",
      "Прогноз по номенклатуре на +2 год рассчитан.\n",
      "Прогноз по номенклатурным группам на +2 год рассчитан.\n"
     ]
    }
   ],
   "source": [
    "n = 2 # На сколько лет рассчитать прогноз\n",
    "\n",
    "for i in range(n):\n",
    "    get_predict(sales_pivot_sku)\n",
    "    print(f'Прогноз по номенклатуре на +{i+1} год рассчитан.')\n",
    "    get_predict(sales_pivot_group)\n",
    "    print(f'Прогноз по номенклатурным группам на +{i+1} год рассчитан.')"
   ]
  },
  {
   "cell_type": "code",
   "execution_count": 134,
   "metadata": {},
   "outputs": [],
   "source": [
    "# Сбрасываю индексы\n",
    "sales_pivot_group = sales_pivot_group.reset_index()\n",
    "sales_pivot_sku = sales_pivot_sku.reset_index()"
   ]
  },
  {
   "cell_type": "markdown",
   "metadata": {},
   "source": [
    "## Преобразование таблиц к итоговому для ТЗ виду"
   ]
  },
  {
   "cell_type": "code",
   "execution_count": 135,
   "metadata": {},
   "outputs": [],
   "source": [
    "sales_sku_new = pd.melt(sales_pivot_sku, id_vars=['КодНоменклатура', 'КодМагазин', 'Месяц'],\n",
    "                 var_name='Год продажи', value_name='Продажи')\n",
    "\n",
    "sales_group_new = pd.melt(sales_pivot_group, id_vars=['НоменклатурнаяГруппа', 'КодМагазин', 'Месяц'],\n",
    "                 var_name='Год продажи', value_name='Продажи')"
   ]
  },
  {
   "cell_type": "code",
   "execution_count": 136,
   "metadata": {},
   "outputs": [],
   "source": [
    "# Добавляю столбец с датой на начало месяца\n",
    "sales_sku_new['Дата'] = sales_sku_new.apply(lambda row: f\"1.{row['Месяц']}.{row['Год продажи']}\", axis=1)\n",
    "sales_group_new['Дата'] = sales_group_new.apply(lambda row: f\"1.{row['Месяц']}.{row['Год продажи']}\", axis=1)\n",
    "\n",
    "# Удаляю лишние столбцы\n",
    "sales_sku_new.drop(['Год продажи', 'Месяц'], axis=1, inplace=True)\n",
    "sales_group_new.drop(['Год продажи', 'Месяц'], axis=1, inplace=True)\n",
    "\n",
    "# Переупорядочивание\n",
    "sales_sku_new = sales_sku_new[['Дата', 'КодМагазин', 'КодНоменклатура', 'Продажи']]\n",
    "sales_group_new = sales_group_new[['Дата', 'КодМагазин', 'НоменклатурнаяГруппа', 'Продажи']]"
   ]
  },
  {
   "cell_type": "code",
   "execution_count": 137,
   "metadata": {},
   "outputs": [
    {
     "data": {
      "text/html": [
       "<div>\n",
       "<style scoped>\n",
       "    .dataframe tbody tr th:only-of-type {\n",
       "        vertical-align: middle;\n",
       "    }\n",
       "\n",
       "    .dataframe tbody tr th {\n",
       "        vertical-align: top;\n",
       "    }\n",
       "\n",
       "    .dataframe thead th {\n",
       "        text-align: right;\n",
       "    }\n",
       "</style>\n",
       "<table border=\"1\" class=\"dataframe\">\n",
       "  <thead>\n",
       "    <tr style=\"text-align: right;\">\n",
       "      <th></th>\n",
       "      <th>Дата</th>\n",
       "      <th>КодМагазин</th>\n",
       "      <th>КодНоменклатура</th>\n",
       "      <th>Продажи</th>\n",
       "    </tr>\n",
       "  </thead>\n",
       "  <tbody>\n",
       "    <tr>\n",
       "      <th>0</th>\n",
       "      <td>1.1.2019</td>\n",
       "      <td>83</td>\n",
       "      <td>2221</td>\n",
       "      <td>5.0</td>\n",
       "    </tr>\n",
       "    <tr>\n",
       "      <th>1</th>\n",
       "      <td>1.2.2019</td>\n",
       "      <td>83</td>\n",
       "      <td>2221</td>\n",
       "      <td>8.0</td>\n",
       "    </tr>\n",
       "  </tbody>\n",
       "</table>\n",
       "</div>"
      ],
      "text/plain": [
       "       Дата КодМагазин КодНоменклатура  Продажи\n",
       "0  1.1.2019         83            2221      5.0\n",
       "1  1.2.2019         83            2221      8.0"
      ]
     },
     "metadata": {},
     "output_type": "display_data"
    },
    {
     "data": {
      "text/html": [
       "<div>\n",
       "<style scoped>\n",
       "    .dataframe tbody tr th:only-of-type {\n",
       "        vertical-align: middle;\n",
       "    }\n",
       "\n",
       "    .dataframe tbody tr th {\n",
       "        vertical-align: top;\n",
       "    }\n",
       "\n",
       "    .dataframe thead th {\n",
       "        text-align: right;\n",
       "    }\n",
       "</style>\n",
       "<table border=\"1\" class=\"dataframe\">\n",
       "  <thead>\n",
       "    <tr style=\"text-align: right;\">\n",
       "      <th></th>\n",
       "      <th>Дата</th>\n",
       "      <th>КодМагазин</th>\n",
       "      <th>НоменклатурнаяГруппа</th>\n",
       "      <th>Продажи</th>\n",
       "    </tr>\n",
       "  </thead>\n",
       "  <tbody>\n",
       "    <tr>\n",
       "      <th>0</th>\n",
       "      <td>1.1.2019</td>\n",
       "      <td>83</td>\n",
       "      <td>Брюки для мальчика шк.форма</td>\n",
       "      <td>25.0</td>\n",
       "    </tr>\n",
       "    <tr>\n",
       "      <th>1</th>\n",
       "      <td>1.2.2019</td>\n",
       "      <td>83</td>\n",
       "      <td>Брюки для мальчика шк.форма</td>\n",
       "      <td>22.0</td>\n",
       "    </tr>\n",
       "  </tbody>\n",
       "</table>\n",
       "</div>"
      ],
      "text/plain": [
       "       Дата КодМагазин         НоменклатурнаяГруппа  Продажи\n",
       "0  1.1.2019         83  Брюки для мальчика шк.форма     25.0\n",
       "1  1.2.2019         83  Брюки для мальчика шк.форма     22.0"
      ]
     },
     "metadata": {},
     "output_type": "display_data"
    }
   ],
   "source": [
    "display(sales_sku_new.head(2))\n",
    "display(sales_group_new.head(2))"
   ]
  },
  {
   "cell_type": "markdown",
   "metadata": {},
   "source": [
    "## Экспорт результатов"
   ]
  },
  {
   "cell_type": "code",
   "execution_count": 138,
   "metadata": {},
   "outputs": [],
   "source": [
    "sales_group_new.to_excel('data/ПрознозПоГруппам.xlsx', index=False)\n",
    "sales_sku_new.to_excel('data/ПрогнозПоНоменклатуре.xlsx', index=False)"
   ]
  }
 ],
 "metadata": {
  "kernelspec": {
   "display_name": "base",
   "language": "python",
   "name": "python3"
  },
  "language_info": {
   "codemirror_mode": {
    "name": "ipython",
    "version": 3
   },
   "file_extension": ".py",
   "mimetype": "text/x-python",
   "name": "python",
   "nbconvert_exporter": "python",
   "pygments_lexer": "ipython3",
   "version": "3.9.13"
  }
 },
 "nbformat": 4,
 "nbformat_minor": 2
}
